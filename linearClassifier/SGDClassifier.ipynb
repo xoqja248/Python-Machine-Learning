{
 "cells": [
  {
   "cell_type": "code",
   "execution_count": 2,
   "id": "1ca54281-de6f-4cbd-a57f-80339bf3ebcb",
   "metadata": {},
   "outputs": [],
   "source": [
    "from sklearn.linear_model import SGDClassifier\n",
    "\n",
    "ppn = SGDClassifier(loss='perceptron')\n",
    "lr = SGDClassifier(loss='log')\n",
    "svm = SGDClassifier(loss='hinge')"
   ]
  },
  {
   "cell_type": "markdown",
   "id": "b6ce6ea0-eeb3-49b6-82fb-afaa8b5a1e99",
   "metadata": {},
   "source": [
    "# SGDClassifier 클래스\n",
    "\n",
    "## partial_fit method를 지원함\n",
    "### 학습 데이터의 용량이 너무 커서 컴퓨터 메모리를 초과할 경우 온라인 학습을 지원하여 학습을 가능하게 함"
   ]
  },
  {
   "cell_type": "code",
   "execution_count": null,
   "id": "b451c463-7186-4509-ae21-e968c2ceb9f1",
   "metadata": {},
   "outputs": [],
   "source": []
  }
 ],
 "metadata": {
  "kernelspec": {
   "display_name": "Python 3 (ipykernel)",
   "language": "python",
   "name": "python3"
  },
  "language_info": {
   "codemirror_mode": {
    "name": "ipython",
    "version": 3
   },
   "file_extension": ".py",
   "mimetype": "text/x-python",
   "name": "python",
   "nbconvert_exporter": "python",
   "pygments_lexer": "ipython3",
   "version": "3.9.7"
  }
 },
 "nbformat": 4,
 "nbformat_minor": 5
}
